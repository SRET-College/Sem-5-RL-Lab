{
  "cells": [
    {
      "cell_type": "markdown",
      "metadata": {
        "id": "view-in-github",
        "colab_type": "text"
      },
      "source": [
        "<a href=\"https://colab.research.google.com/github/SRET-College/Sem-5-RL-Lab/blob/main/RL_LAB_EXPT_9.ipynb\" target=\"_parent\"><img src=\"https://colab.research.google.com/assets/colab-badge.svg\" alt=\"Open In Colab\"/></a>"
      ]
    },
    {
      "cell_type": "code",
      "execution_count": 1,
      "id": "df7b340c",
      "metadata": {
        "id": "df7b340c"
      },
      "outputs": [],
      "source": [
        "import gymnasium as gym\n",
        "import numpy as np\n",
        "import pandas as pd\n",
        "from collections import defaultdict\n",
        "import matplotlib.pyplot as plt\n",
        "import seaborn as sns\n",
        "from mpl_toolkits.mplot3d import Axes3D\n",
        "from matplotlib import cm\n",
        "from matplotlib.ticker import LinearLocator, FormatStrFormatter"
      ]
    },
    {
      "cell_type": "code",
      "execution_count": 2,
      "id": "daf0d6a5",
      "metadata": {
        "colab": {
          "base_uri": "https://localhost:8080/"
        },
        "id": "daf0d6a5",
        "outputId": "36ee8272-4118-46b6-a96a-d168b567928c"
      },
      "outputs": [
        {
          "output_type": "stream",
          "name": "stdout",
          "text": [
            "Observation Space: Tuple(Discrete(32), Discrete(11), Discrete(2))\n",
            "Action Space: Discrete(2)\n"
          ]
        }
      ],
      "source": [
        "# Create the Blackjack environment\n",
        "env = gym.make('Blackjack-v1')\n",
        "\n",
        "# Explore the observation and action space\n",
        "print(\"Observation Space:\", env.observation_space)\n",
        "print(\"Action Space:\", env.action_space)"
      ]
    },
    {
      "cell_type": "code",
      "execution_count": 3,
      "id": "964bb572",
      "metadata": {
        "id": "964bb572"
      },
      "outputs": [],
      "source": [
        "def mc_prediction(env, num_episodes, policy):\n",
        "    \"\"\"\n",
        "    Monte Carlo prediction to estimate state-action values.\n",
        "\n",
        "    Args:\n",
        "        env: The Gymnasium environment.\n",
        "        num_episodes: The number of episodes to simulate.\n",
        "        policy: A function that takes a state and returns an action.\n",
        "\n",
        "    Returns:\n",
        "        A dictionary containing the estimated value for each state.\n",
        "    \"\"\"\n",
        "    returns_sum = defaultdict(float)\n",
        "    returns_count = defaultdict(float)\n",
        "    estimated_values = defaultdict(float)\n",
        "\n",
        "    for i in range(num_episodes):\n",
        "        episode = []\n",
        "        state, info = env.reset()\n",
        "        terminated = False\n",
        "        truncated = False\n",
        "\n",
        "        while not terminated and not truncated:\n",
        "            action = policy(state)\n",
        "            next_state, reward, terminated, truncated, info = env.step(action)\n",
        "            episode.append((state, action, reward))\n",
        "            state = next_state\n",
        "\n",
        "        # Go through the episode and update returns\n",
        "        states_in_episode = set([x[0] for x in episode])\n",
        "        for state in states_in_episode:\n",
        "            first_occurrence_idx = next(i for i,x in enumerate(episode) if x[0] == state)\n",
        "            G = sum([x[2] for x in episode[first_occurrence_idx:]])\n",
        "            returns_sum[state] += G\n",
        "            returns_count[state] += 1.0\n",
        "            estimated_values[state] = returns_sum[state] / returns_count[state]\n",
        "\n",
        "    return estimated_values"
      ]
    },
    {
      "cell_type": "code",
      "execution_count": 4,
      "id": "f48145ad",
      "metadata": {
        "id": "f48145ad"
      },
      "outputs": [],
      "source": [
        "def mc_control_epsilon_greedy(env, num_episodes, epsilon):\n",
        "    \"\"\"\n",
        "    Monte Carlo control with epsilon-greedy policy to find the optimal policy.\n",
        "\n",
        "    Args:\n",
        "        env: The Gymnasium environment.\n",
        "        num_episodes: The number of episodes to simulate.\n",
        "        epsilon: The epsilon value for the epsilon-greedy policy.\n",
        "\n",
        "    Returns:\n",
        "        A tuple containing the optimal Q-values and the optimal policy.\n",
        "    \"\"\"\n",
        "    Q = defaultdict(lambda: np.zeros(env.action_space.n))\n",
        "    returns_sum = defaultdict(float)\n",
        "    returns_count = defaultdict(float)\n",
        "    optimal_policy = {}\n",
        "    optimal_q_values = {}\n",
        "\n",
        "    for i in range(num_episodes):\n",
        "        episode = []\n",
        "        state, info = env.reset()\n",
        "        terminated = False\n",
        "        truncated = False\n",
        "\n",
        "        # Generate an episode using epsilon-greedy policy\n",
        "        while not terminated and not truncated:\n",
        "            # Epsilon-greedy policy\n",
        "            if np.random.rand() < epsilon:\n",
        "                action = env.action_space.sample()  # Explore\n",
        "            else:\n",
        "                action = np.argmax(Q[state])  # Exploit\n",
        "\n",
        "            next_state, reward, terminated, truncated, info = env.step(action)\n",
        "            episode.append((state, action, reward))\n",
        "            state = next_state\n",
        "\n",
        "        # Update Q-values\n",
        "        states_and_actions_in_episode = set([(x[0], x[1]) for x in episode])\n",
        "        for state, action in states_and_actions_in_episode:\n",
        "            first_occurrence_idx = next(i for i,x in enumerate(episode) if x[0] == state and x[1] == action)\n",
        "            G = sum([x[2] for x in episode[first_occurrence_idx:]])\n",
        "            returns_sum[(state, action)] += G\n",
        "            returns_count[(state, action)] += 1.0\n",
        "            Q[state][action] = returns_sum[(state, action)] / returns_count[(state, action)]\n",
        "\n",
        "        # Update optimal policy and Q-values\n",
        "        for state, action_values in Q.items():\n",
        "          optimal_policy[state] = np.argmax(action_values)\n",
        "          optimal_q_values[state, np.argmax(action_values)] = np.max(action_values)\n",
        "\n",
        "\n",
        "    return optimal_q_values, optimal_policy"
      ]
    },
    {
      "cell_type": "code",
      "execution_count": 5,
      "id": "e6c0040c",
      "metadata": {
        "colab": {
          "base_uri": "https://localhost:8080/"
        },
        "id": "e6c0040c",
        "outputId": "224071da-afb2-4c80-bdd2-0e2211e7f2ba"
      },
      "outputs": [
        {
          "output_type": "stream",
          "name": "stdout",
          "text": [
            "Learned Optimal Policy (some examples):\n",
            "State: (20, 10, 0), Optimal Action: 0 (0: Stick, 1: Hit)\n",
            "State: (10, 10, 0), Optimal Action: 1 (0: Stick, 1: Hit)\n",
            "State: (6, 10, 0), Optimal Action: 1 (0: Stick, 1: Hit)\n",
            "State: (14, 10, 1), Optimal Action: 1 (0: Stick, 1: Hit)\n",
            "State: (18, 7, 0), Optimal Action: 0 (0: Stick, 1: Hit)\n",
            "State: (20, 7, 0), Optimal Action: 0 (0: Stick, 1: Hit)\n",
            "State: (14, 2, 1), Optimal Action: 0 (0: Stick, 1: Hit)\n",
            "State: (13, 5, 0), Optimal Action: 0 (0: Stick, 1: Hit)\n",
            "State: (19, 5, 0), Optimal Action: 0 (0: Stick, 1: Hit)\n",
            "State: (13, 10, 0), Optimal Action: 1 (0: Stick, 1: Hit)\n",
            "\n",
            "Learned Optimal Q-values (some examples):\n",
            "State-Action: ((20, 10, 0), np.int64(0)), Q-value: 0.5027322404371585\n",
            "State-Action: ((10, 10, 0), np.int64(1)), Q-value: -0.056338028169014086\n",
            "State-Action: ((6, 10, 0), np.int64(0)), Q-value: -0.68\n",
            "State-Action: ((14, 10, 1), np.int64(1)), Q-value: -0.391304347826087\n",
            "State-Action: ((18, 7, 0), np.int64(0)), Q-value: 0.4482758620689655\n",
            "State-Action: ((20, 7, 0), np.int64(0)), Q-value: 0.8823529411764706\n",
            "State-Action: ((14, 2, 1), np.int64(1)), Q-value: 0.0\n",
            "State-Action: ((13, 5, 0), np.int64(0)), Q-value: -0.1891891891891892\n",
            "State-Action: ((19, 5, 0), np.int64(0)), Q-value: 0.23076923076923078\n",
            "State-Action: ((13, 10, 0), np.int64(1)), Q-value: -0.42105263157894735\n"
          ]
        }
      ],
      "source": [
        "# Define parameters\n",
        "num_episodes_control = 5000  # Number of episodes for control\n",
        "epsilon_value = 0.1  # Epsilon for epsilon-greedy policy\n",
        "\n",
        "# Run Monte Carlo control\n",
        "optimal_q_values, optimal_policy = mc_control_epsilon_greedy(env, num_episodes_control, epsilon_value)\n",
        "\n",
        "# Print some of the learned optimal policy\n",
        "print(\"Learned Optimal Policy (some examples):\")\n",
        "for state, action in list(optimal_policy.items())[:10]:\n",
        "    print(f\"State: {state}, Optimal Action: {action} (0: Stick, 1: Hit)\")\n",
        "\n",
        "# Print some of the learned optimal Q-values\n",
        "print(\"\\nLearned Optimal Q-values (some examples):\")\n",
        "for state_action, q_value in list(optimal_q_values.items())[:10]:\n",
        "    print(f\"State-Action: {state_action}, Q-value: {q_value}\")"
      ]
    },
    {
      "cell_type": "code",
      "execution_count": 6,
      "id": "33cf7814",
      "metadata": {
        "colab": {
          "base_uri": "https://localhost:8080/",
          "height": 607
        },
        "id": "33cf7814",
        "outputId": "db4d0ad2-b7f1-4974-a2e8-be4596874867"
      },
      "outputs": [
        {
          "output_type": "display_data",
          "data": {
            "text/plain": [
              "<Figure size 1400x600 with 2 Axes>"
            ],
            "image/png": "[encoded data removed]"
          },
          "metadata": {}
        }
      ],
      "source": [
        "# Prepare data for visualization\n",
        "# Separate policies for hands with and without a usable ace\n",
        "policy_no_ace = {k: v for k, v in optimal_policy.items() if not k[2]}\n",
        "policy_with_ace = {k: v for k, v in optimal_policy.items() if k[2]}\n",
        "\n",
        "# Create DataFrames for easier plotting\n",
        "policy_df_no_ace = pd.DataFrame([\n",
        "    {'Player Sum': state[0], 'Dealer Upcard': state[1], 'Optimal Action': action}\n",
        "    for state, action in policy_no_ace.items()\n",
        "])\n",
        "\n",
        "policy_df_with_ace = pd.DataFrame([\n",
        "    {'Player Sum': state[0], 'Dealer Upcard': state[1], 'Optimal Action': action}\n",
        "    for state, action in policy_with_ace.items()\n",
        "])\n",
        "\n",
        "# Pivot tables for heatmap\n",
        "policy_pivot_no_ace = policy_df_no_ace.pivot_table(\n",
        "    index='Dealer Upcard', columns='Player Sum', values='Optimal Action'\n",
        ").sort_index(ascending=False)\n",
        "\n",
        "policy_pivot_with_ace = policy_df_with_ace.pivot_table(\n",
        "    index='Dealer Upcard', columns='Player Sum', values='Optimal Action'\n",
        ").sort_index(ascending=False)\n",
        "\n",
        "# Plotting the optimal policy\n",
        "plt.figure(figsize=(14, 6))\n",
        "\n",
        "plt.subplot(1, 2, 1)\n",
        "sns.heatmap(policy_pivot_no_ace, annot=True, fmt=\".0f\", cmap=\"coolwarm\", cbar=False)\n",
        "plt.title('Optimal Policy (No Usable Ace)')\n",
        "plt.xlabel('Player Sum')\n",
        "plt.ylabel('Dealer Upcard')\n",
        "\n",
        "plt.subplot(1, 2, 2)\n",
        "sns.heatmap(policy_pivot_with_ace, annot=True, fmt=\".0f\", cmap=\"coolwarm\", cbar=False)\n",
        "plt.title('Optimal Policy (Usable Ace)')\n",
        "plt.xlabel('Player Sum')\n",
        "plt.ylabel('Dealer Upcard')\n",
        "\n",
        "plt.tight_layout()\n",
        "plt.show()"
      ]
    },
    {
      "cell_type": "code",
      "execution_count": 6,
      "id": "e17b603e",
      "metadata": {
        "id": "e17b603e"
      },
      "outputs": [],
      "source": []
    }
  ],
  "metadata": {
    "kernelspec": {
      "display_name": "Python 3 (ipykernel)",
      "language": "python",
      "name": "python3"
    },
    "language_info": {
      "codemirror_mode": {
        "name": "ipython",
        "version": 3
      },
      "file_extension": ".py",
      "mimetype": "text/x-python",
      "name": "python",
      "nbconvert_exporter": "python",
      "pygments_lexer": "ipython3",
      "version": "3.11.5"
    },
    "colab": {
      "provenance": [],
      "include_colab_link": true
    }
  },
  "nbformat": 4,
  "nbformat_minor": 5
}